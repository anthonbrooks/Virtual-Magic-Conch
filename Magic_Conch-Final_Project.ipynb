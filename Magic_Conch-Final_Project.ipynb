{
 "cells": [
  {
   "cell_type": "markdown",
   "metadata": {},
   "source": [
    "***Magic Conch***\n",
    "\n",
    "For my final project I chose to expand the chatbot from Assignment 3. \n",
    "\n",
    "My chatbot is a 'Virtual Magic Conch' similar to the 'Magic Conch Shell' from SpongeBob. If you do not know what the 'Magic Conch' is, it is like a 'Magic 8-Ball', a device that you can ask a question. \n",
    "\n",
    "To use the 'Magic 8-Ball' you ask a question then shake the 'Magic 8-Ball' for an aswer to \"magically\" appear.\n",
    "\n",
    "For the 'Magic Conch Shell', SpongeBob asks a question then pulls a string on the shell and the shell speaks an answer.\n",
    "\n",
    "These devices have a few set responses, so I created functions that recognize different types of questions and return an answer depending on the input. \n",
    "\n",
    "Start out by saying 'hello'.\n",
    "\n",
    "Enjoy and ask away, and if you want a laugh, ask the 'Virtual Magic Conch' to tell you a joke."
   ]
  },
  {
   "cell_type": "code",
   "execution_count": null,
   "metadata": {},
   "outputs": [],
   "source": [
    "import random\n",
    "\n",
    "from my_module.functions import *"
   ]
  },
  {
   "cell_type": "code",
   "execution_count": null,
   "metadata": {},
   "outputs": [],
   "source": [
    "# magic conch chatbot\n",
    "magic_conch()"
   ]
  },
  {
   "cell_type": "code",
   "execution_count": null,
   "metadata": {},
   "outputs": [],
   "source": []
  }
 ],
 "metadata": {
  "kernelspec": {
   "display_name": "Python 3",
   "language": "python",
   "name": "python3"
  },
  "language_info": {
   "codemirror_mode": {
    "name": "ipython",
    "version": 3
   },
   "file_extension": ".py",
   "mimetype": "text/x-python",
   "name": "python",
   "nbconvert_exporter": "python",
   "pygments_lexer": "ipython3",
   "version": "3.6.7"
  }
 },
 "nbformat": 4,
 "nbformat_minor": 2
}
